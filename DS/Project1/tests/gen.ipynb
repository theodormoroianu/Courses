{
 "cells": [
  {
   "cell_type": "code",
   "execution_count": 13,
   "metadata": {},
   "outputs": [],
   "source": [
    "import random"
   ]
  },
  {
   "cell_type": "code",
   "execution_count": 14,
   "metadata": {},
   "outputs": [],
   "source": [
    "def Sorted(x):\n",
    "    return [i for i in range(x)]\n",
    "\n",
    "def Reversed(x):\n",
    "    return [i for i in range(x, -1, -1)]\n",
    "\n",
    "def Random(len, vmax):\n",
    "    return [random.randint(0, vmax) for i in range(len)]\n",
    "    "
   ]
  },
  {
   "cell_type": "code",
   "execution_count": 22,
   "metadata": {},
   "outputs": [],
   "source": [
    "def Write(vec, name):\n",
    "    with open(name + \".in\", \"w\") as fout:\n",
    "        fout.write(\" \".join([str(len(vec))] + [str(i) for i in vec]))"
   ]
  },
  {
   "cell_type": "code",
   "execution_count": 23,
   "metadata": {},
   "outputs": [],
   "source": [
    "for i in range(3, 8):\n",
    "    Write(Sorted(10 ** i), \"sorted1e\" + str(i))\n",
    "    Write(Reversed(10 ** i), \"reversed1e\" + str(i))\n",
    "    Write(Random(10 ** i, int(1e6)), \"randsmall1e\" + str(i))\n",
    "    Write(Random(10 ** i, int(2e9)), \"randbig1e\" + str(i))"
   ]
  },
  {
   "cell_type": "code",
   "execution_count": null,
   "metadata": {},
   "outputs": [],
   "source": []
  }
 ],
 "metadata": {
  "language_info": {
   "codemirror_mode": {
    "name": "ipython",
    "version": 3
   },
   "file_extension": ".py",
   "mimetype": "text/x-python",
   "name": "python",
   "nbconvert_exporter": "python",
   "pygments_lexer": "ipython3",
   "version": "3.7.6-final"
  },
  "orig_nbformat": 2,
  "kernelspec": {
   "name": "python37464bitbaseconda64ca4c5e7f9e434ca6dde3b088188f55",
   "display_name": "Python 3.7.4 64-bit ('base': conda)"
  }
 },
 "nbformat": 4,
 "nbformat_minor": 2
}